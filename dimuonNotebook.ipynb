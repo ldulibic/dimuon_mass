{
 "cells": [
  {
   "cell_type": "code",
   "execution_count": 1,
   "metadata": {},
   "outputs": [
    {
     "name": "stdout",
     "output_type": "stream",
     "text": [
      "Welcome to JupyROOT 6.14/09\n"
     ]
    }
   ],
   "source": [
    "import ROOT"
   ]
  },
  {
   "cell_type": "code",
   "execution_count": 2,
   "metadata": {},
   "outputs": [],
   "source": [
    "#ROOT.ROOT.EnableImplicitMT(1)"
   ]
  },
  {
   "cell_type": "code",
   "execution_count": 3,
   "metadata": {},
   "outputs": [],
   "source": [
    "# Create dataframe from a (reduced) NanoAOD file\n",
    "df = ROOT.RDataFrame(\"Events\", \"Run2012BC_DoubleMuParked_Muons.root\")\n",
    "\n",
    "# For simplicity, select only events with exactly two muons and require opposite charge\n",
    "df_2mu = df.Filter(\"nMuon == 2\", \"Events with exactly two muons\")\n",
    "df_os = df_2mu.Filter(\"Muon_charge[0] != Muon_charge[1]\", \"Muons with opposite charge\")"
   ]
  },
  {
   "cell_type": "code",
   "execution_count": 8,
   "metadata": {},
   "outputs": [
    {
     "data": {
      "text/plain": [
       "False"
      ]
     },
     "execution_count": 8,
     "metadata": {},
     "output_type": "execute_result"
    },
    {
     "name": "stderr",
     "output_type": "stream",
     "text": [
      "\u001b[1minput_line_87:2:27: \u001b[0m\u001b[0;1;31merror: \u001b[0m\u001b[1mno template named 'RVec' in namespace 'ROOT'\u001b[0m\n",
      "using Vec_t = const ROOT::RVec<float>&;\n",
      "\u001b[0;1;32m                    ~~~~~~^\n",
      "\u001b[0m\u001b[1minput_line_87:3:7: \u001b[0m\u001b[0;1;31merror: \u001b[0m\u001b[1mredefinition of 'ComputeInvariantMass'\u001b[0m\n",
      "float ComputeInvariantMass(Vec_t pt, Vec_t eta, Vec_t phi, Vec_t mass) {\n",
      "\u001b[0;1;32m      ^\n",
      "\u001b[0m\u001b[1minput_line_74:3:7: \u001b[0m\u001b[0;1;30mnote: \u001b[0mprevious definition is here\u001b[0m\n",
      "float ComputeInvariantMass(Vec_t pt, Vec_t eta, Vec_t phi, Vec_t mass) {\n",
      "\u001b[0;1;32m      ^\n",
      "\u001b[0m"
     ]
    }
   ],
   "source": [
    "# Compute invariant mass of the dimuon system\n",
    "\n",
    "# Perform the computation of the invariant mass in C++\n",
    "ROOT.gInterpreter.Declare('''\n",
    "using Vec_t = const ROOT::RVec<float>&;\n",
    "float ComputeInvariantMass(Vec_t pt, Vec_t eta, Vec_t phi, Vec_t mass) {\n",
    "    const ROOT::Math::PtEtaPhiMVector p1(pt[0], eta[0], phi[0], mass[0]);\n",
    "    const ROOT::Math::PtEtaPhiMVector p2(pt[1], eta[1], phi[1], mass[1]);\n",
    "    return (p1 + p2).M();\n",
    "}\n",
    "''')\n",
    "\n"
   ]
  },
  {
   "cell_type": "code",
   "execution_count": 9,
   "metadata": {},
   "outputs": [
    {
     "ename": "Exception",
     "evalue": "ROOT::RDF::RInterface<ROOT::Detail::RDF::RJittedFilter,void> ROOT::RDF::RInterface<ROOT::Detail::RDF::RJittedFilter,void>::Define(basic_string_view<char,char_traits<char> > name, basic_string_view<char,char_traits<char> > expression) =>\n    Redefinition of column \"Dimuon_mass\" (C++ exception of type runtime_error)",
     "output_type": "error",
     "traceback": [
      "\u001b[0;31m\u001b[0m",
      "\u001b[0;31mException\u001b[0mTraceback (most recent call last)",
      "\u001b[0;32m<ipython-input-9-40d6d3e79300>\u001b[0m in \u001b[0;36m<module>\u001b[0;34m()\u001b[0m\n\u001b[1;32m      1\u001b[0m \u001b[0;31m# Add the result of the computation to the dataframe\u001b[0m\u001b[0;34m\u001b[0m\u001b[0;34m\u001b[0m\u001b[0m\n\u001b[0;32m----> 2\u001b[0;31m \u001b[0mdf_mass\u001b[0m \u001b[0;34m=\u001b[0m \u001b[0mdf_os\u001b[0m\u001b[0;34m.\u001b[0m\u001b[0mDefine\u001b[0m\u001b[0;34m(\u001b[0m\u001b[0;34m\"Dimuon_mass\"\u001b[0m\u001b[0;34m,\u001b[0m \u001b[0;34m\"ComputeInvariantMass(Muon_pt, Muon_eta, Muon_phi, Muon_mass)\"\u001b[0m\u001b[0;34m)\u001b[0m\u001b[0;34m\u001b[0m\u001b[0m\n\u001b[0m",
      "\u001b[0;31mException\u001b[0m: ROOT::RDF::RInterface<ROOT::Detail::RDF::RJittedFilter,void> ROOT::RDF::RInterface<ROOT::Detail::RDF::RJittedFilter,void>::Define(basic_string_view<char,char_traits<char> > name, basic_string_view<char,char_traits<char> > expression) =>\n    Redefinition of column \"Dimuon_mass\" (C++ exception of type runtime_error)"
     ]
    }
   ],
   "source": [
    "# Add the result of the computation to the dataframe\n",
    "df_mass = df_os.Define(\"Dimuon_mass\", \"ComputeInvariantMass(Muon_pt, Muon_eta, Muon_phi, Muon_mass)\")"
   ]
  },
  {
   "cell_type": "code",
   "execution_count": 10,
   "metadata": {},
   "outputs": [],
   "source": [
    "# Book histogram of the dimuon mass spectrum (does not actually run the computation!)\n",
    "h = df_mass.Histo1D((\"Dimuon_mass\", \";m_{#mu#mu} (GeV);N_{Events}\", 30000, 0.25, 300), \"Dimuon_mass\")\n",
    "\n",
    "# Request a cut-flow report (also does not run the computation yet!)\n",
    "report = df_mass.Report()"
   ]
  },
  {
   "cell_type": "code",
   "execution_count": 11,
   "metadata": {},
   "outputs": [
    {
     "name": "stdout",
     "output_type": "stream",
     "text": [
      "Events with exactly two muons: pass=31104343   all=61540413   --   50.543 %\n",
      "Muons with opposite charge: pass=24067843   all=31104343   --   77.378 %\n"
     ]
    }
   ],
   "source": [
    "# Produce plot\n",
    "ROOT.gStyle.SetOptStat(0)\n",
    "ROOT.gStyle.SetTextFont(42)\n",
    "c = ROOT.TCanvas(\"c\", \"\", 800, 700)\n",
    "# The contents of one of the dataframe results are accessed for the first time here:\n",
    "# this is when all results will actually be produced!\n",
    "h.GetXaxis().SetTitleSize(0.04)\n",
    "h.GetYaxis().SetTitleSize(0.04)\n",
    "c.SetLogx(); c.SetLogy()\n",
    "h.Draw()\n",
    "\n",
    "label = ROOT.TLatex()\n",
    "label.SetNDC(True)\n",
    "label.SetTextSize(0.040)\n",
    "label.DrawLatex(0.100, 0.920, \"#bf{CMS Open Data}\")\n",
    "label.DrawLatex(0.550, 0.920, \"#sqrt{s} = 8 TeV, L_{int} = 11.6 fb^{-1}\")\n",
    "\n",
    "# Save as png file\n",
    "c.SaveAs(\"dimuon_spectrum.png\")\n",
    "\n",
    "# Print cut-flow report\n",
    "report.Print()\n"
   ]
  },
  {
   "cell_type": "code",
   "execution_count": null,
   "metadata": {},
   "outputs": [],
   "source": []
  }
 ],
 "metadata": {
  "kernelspec": {
   "display_name": "Python 2",
   "language": "python",
   "name": "python2"
  },
  "language_info": {
   "codemirror_mode": {
    "name": "ipython",
    "version": 2
   },
   "file_extension": ".py",
   "mimetype": "text/x-python",
   "name": "python",
   "nbconvert_exporter": "python",
   "pygments_lexer": "ipython2",
   "version": "2.7.15+"
  }
 },
 "nbformat": 4,
 "nbformat_minor": 2
}
